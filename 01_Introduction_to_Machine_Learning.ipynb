{
 "cells": [
  {
   "cell_type": "markdown",
   "id": "4962bb63-d387-48d9-ba65-c55dc7582480",
   "metadata": {},
   "source": [
    "# Introduction to Machine Learning\n",
    "\n",
    "## 1. Introduction to Machine Learning\n",
    "\n",
    "Machine learning is the field of study that allows computers to learn from data and improve their performance on a task without explicit programming. In this notebook, we will explore how to load datasets, split them into training and testing data, and train a basic classifier using the **scikit-learn** library. All of these notebooks were made by referencing this youtube playlist: https://www.youtube.com/playlist?list=PLQVvvaa0QuDd0flgGphKCej-9jp-QdzZ3 . Please take a look if you dont fully understand everything in my notebooks. \n",
    "\n",
    "---\n",
    "\n",
    "## 2. Theory/Explanation\n",
    "\n",
    "### What is Machine Learning?\n",
    "Machine learning enables systems to learn from data, identifying patterns and making decisions based on the data. It is widely used for applications such as image recognition, speech processing, and data analysis.\n",
    "\n",
    "### What is Scikit-learn?\n",
    "**Scikit-learn** is a powerful Python library that simplifies machine learning tasks. It includes a variety of supervised and unsupervised learning algorithms, and tools to process data, split it into training/testing datasets, and evaluate models.\n",
    "\n",
    "---\n",
    "\n",
    "## 3. Code Example\n",
    "\n",
    "In this example, we’ll use the **Iris dataset** (a common dataset for classification tasks). We will split the data into training and testing sets, then train a **Logistic Regression** classifier to predict the species of an iris flower.\n",
    "\n",
    "```python\n",
    "# Import necessary libraries\n",
    "from sklearn import datasets\n",
    "from sklearn.model_selection import train_test_split\n",
    "from sklearn.linear_model import LogisticRegression\n",
    "\n",
    "# Load the Iris dataset\n",
    "iris = datasets.load_iris()\n",
    "X = iris.data  # Features\n",
    "y = iris.target  # Labels\n",
    "\n",
    "# Split data into training and testing sets\n",
    "X_train, X_test, y_train, y_test = train_test_split(X, y, test_size=0.3)\n",
    "\n",
    "# Initialize and train a Logistic Regression model\n",
    "model = LogisticRegression(max_iter=200)\n",
    "model.fit(X_train, y_train)\n",
    "\n",
    "# Make predictions on the test data\n",
    "predictions = model.predict(X_test)\n",
    "\n",
    "# Display the predictions\n",
    "print(predictions)\n"
   ]
  },
  {
   "cell_type": "code",
   "execution_count": null,
   "id": "8465300a-8ad3-40e6-93c2-2f9bba8977f5",
   "metadata": {},
   "outputs": [],
   "source": []
  }
 ],
 "metadata": {
  "kernelspec": {
   "display_name": "Python [conda env:base] *",
   "language": "python",
   "name": "conda-base-py"
  },
  "language_info": {
   "codemirror_mode": {
    "name": "ipython",
    "version": 3
   },
   "file_extension": ".py",
   "mimetype": "text/x-python",
   "name": "python",
   "nbconvert_exporter": "python",
   "pygments_lexer": "ipython3",
   "version": "3.12.7"
  }
 },
 "nbformat": 4,
 "nbformat_minor": 5
}
