{
 "cells": [
  {
   "cell_type": "markdown",
   "id": "4453ec82-dbc0-4a6b-bfa0-1f6998037e15",
   "metadata": {},
   "source": [
    "# Building a Classifier from Scratch\n",
    "\n",
    "## 1. Introduction\n",
    "\n",
    "Instead of using built-in tools like `SVC`, we can build our own simple classifier using NumPy to understand how machine learning works under the hood.\n",
    "\n",
    "This example uses a basic rule-based classifier on the Iris dataset.\n",
    "\n",
    "---\n",
    "\n",
    "## 2. Load and Prepare Data\n",
    "\n",
    "```python\n",
    "from sklearn import datasets\n",
    "import numpy as np\n",
    "\n",
    "# Load dataset\n",
    "iris = datasets.load_iris()\n",
    "X = iris.data\n",
    "y = iris.target\n",
    "\n",
    "# Use only two classes (for binary classification)\n",
    "X = X[y != 2]\n",
    "y = y[y != 2]\n"
   ]
  },
  {
   "cell_type": "code",
   "execution_count": 12,
   "id": "6794168a-36fc-40db-b1d0-830a27373312",
   "metadata": {},
   "outputs": [],
   "source": [
    "class CustomClassifier:\n",
    "    def fit(self, X, y):\n",
    "        self.threshold = np.mean(X[:, 0])  # Use first feature\n",
    "        self.sign = 1 if np.mean(y) > 0.5 else -1\n",
    "\n",
    "    def predict(self, X):\n",
    "        return (X[:, 0] > self.threshold).astype(int)\n",
    "\n",
    "        # Train\n",
    "        clf = CustomClassifier()\n",
    "        clf.fit(X, y)\n",
    "        \n",
    "        # Predict\n",
    "        predictions = clf.predict(X)\n",
    "\n",
    "        # Evaluate\n",
    "        accuracy = np.mean(predictions == y)\n",
    "        print(\"Accuracy:\", accuracy)\n",
    "\n",
    "        "
   ]
  },
  {
   "cell_type": "code",
   "execution_count": null,
   "id": "3ca46fbe-89fe-4914-baf1-4034ec0cf8b0",
   "metadata": {},
   "outputs": [],
   "source": []
  }
 ],
 "metadata": {
  "kernelspec": {
   "display_name": "Python [conda env:base] *",
   "language": "python",
   "name": "conda-base-py"
  },
  "language_info": {
   "codemirror_mode": {
    "name": "ipython",
    "version": 3
   },
   "file_extension": ".py",
   "mimetype": "text/x-python",
   "name": "python",
   "nbconvert_exporter": "python",
   "pygments_lexer": "ipython3",
   "version": "3.12.7"
  }
 },
 "nbformat": 4,
 "nbformat_minor": 5
}
