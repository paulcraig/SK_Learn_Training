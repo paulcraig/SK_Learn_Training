{
 "cells": [
  {
   "cell_type": "markdown",
   "id": "4f15b5cb-bd5f-4809-948d-1b13f719877b",
   "metadata": {},
   "source": [
    "# Support Vector Machine Optimization\n",
    "\n",
    "## 1. Introduction\n",
    "\n",
    "Support Vector Machines (SVMs) try to find the optimal separating hyperplane between classes. In this notebook, we'll visualize SVM optimization using:\n",
    "- A linear kernel\n",
    "- PCA for 2D plotting\n",
    "- Margin width and support vectors\n",
    "\n",
    "---\n",
    "\n",
    "## 2. Load and Prepare Data\n",
    "\n",
    "We'll use the Iris dataset again, but keep only two classes for simplicity.\n"
   ]
  },
  {
   "cell_type": "code",
   "execution_count": null,
   "id": "93fe4d05-d084-4752-844b-1cd1c1b43d75",
   "metadata": {},
   "outputs": [],
   "source": [
    "from sklearn import datasets\n",
    "\n",
    "iris = datasets.load_iris()\n",
    "X = iris.data\n",
    "y = iris.target\n",
    "\n",
    "# Keep only 2 classes (binary classification)\n",
    "X = X[y != 2]\n",
    "y = y[y != 2]\n"
   ]
  },
  {
   "cell_type": "markdown",
   "id": "1f5a3a29-da5d-4c43-b1f1-08e744af7840",
   "metadata": {},
   "source": [
    "## 3. Scale Features and Reduce Dimensions\n",
    "\n",
    "We'll scale the data (important for SVMs) and use PCA to reduce to 2 dimensions for visualization.\n"
   ]
  },
  {
   "cell_type": "code",
   "execution_count": null,
   "id": "0997c0cf-ba2e-4bdc-9760-3013453e9838",
   "metadata": {},
   "outputs": [],
   "source": [
    "from sklearn.preprocessing import StandardScaler\n",
    "from sklearn.decomposition import PCA\n",
    "\n",
    "scaler = StandardScaler()\n",
    "X_scaled = scaler.fit_transform(X)\n",
    "\n",
    "pca = PCA(n_components=2)\n",
    "X_reduced = pca.fit_transform(X_scaled)\n"
   ]
  },
  {
   "cell_type": "markdown",
   "id": "6680fedc-6104-4c67-b6e6-b1a9d4fcc491",
   "metadata": {},
   "source": [
    "## 4. Train the SVM\n",
    "\n",
    "We’ll use a linear kernel to show the optimized margin and support vectors.\n"
   ]
  }
 ],
 "metadata": {
  "kernelspec": {
   "display_name": "Python [conda env:base] *",
   "language": "python",
   "name": "conda-base-py"
  },
  "language_info": {
   "codemirror_mode": {
    "name": "ipython",
    "version": 3
   },
   "file_extension": ".py",
   "mimetype": "text/x-python",
   "name": "python",
   "nbconvert_exporter": "python",
   "pygments_lexer": "ipython3",
   "version": "3.12.7"
  }
 },
 "nbformat": 4,
 "nbformat_minor": 5
}
