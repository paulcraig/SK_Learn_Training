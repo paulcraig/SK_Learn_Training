{
 "cells": [
  {
   "cell_type": "markdown",
   "id": "35304d34-9c1b-45d5-8117-2aaa7dd1c531",
   "metadata": {},
   "source": [
    "# K-Nearest Neighbors (KNN)\n",
    "\n",
    "## 1. Introduction to K-Nearest Neighbors (KNN)\n",
    "\n",
    "K-Nearest Neighbors (KNN) is a simple, yet powerful algorithm used for classification tasks. It works by finding the 'k' nearest data points to a given point and making a prediction based on the majority class of those neighbors.\n",
    "\n",
    "---\n",
    "\n",
    "## 2. Theory/Explanation\n",
    "\n",
    "### What is KNN?\n",
    "KNN is a non-parametric algorithm, meaning it doesn’t make any assumptions about the underlying data. It classifies a data point based on the majority class of its 'k' closest neighbors.\n",
    "\n",
    "### How does KNN work?\n",
    "1. **Choose a value for 'k'**: Typically, a small odd number.\n",
    "2. **Distance Metric**: Calculate the distance between data points (e.g., Euclidean distance).\n",
    "3. **Prediction**: Assign the class that is most common among the 'k' closest neighbors.\n",
    "\n",
    "---\n",
    "\n",
    "## 3. Code Example\n",
    "\n",
    "We will use the Iris dataset to demonstrate how KNN can classify the species of an iris flower based on its features.\n",
    "\n",
    "```python\n",
    "# Import necessary libraries\n",
    "from sklearn.neighbors import KNeighborsClassifier\n",
    "from sklearn import datasets\n",
    "from sklearn.model_selection import train_test_split\n",
    "\n",
    "# Load the Iris dataset\n",
    "iris = datasets.load_iris()\n",
    "X = iris.data  # Features\n",
    "y = iris.target  # Labels\n",
    "\n",
    "# Split data into training and testing sets\n",
    "X_train, X_test, y_train, y_test = train_test_split(X, y, test_size=0.3)\n",
    "\n",
    "# Initialize and train a KNN model with k=3\n",
    "knn = KNeighborsClassifier(n_neighbors=3)\n",
    "knn.fit(X_train, y_train)\n",
    "\n",
    "# Make predictions on the test data\n",
    "knn_predictions = knn.predict(X_test)\n",
    "\n",
    "# Display the predictions\n",
    "print(knn_predictions)\n"
   ]
  },
  {
   "cell_type": "code",
   "execution_count": null,
   "id": "7fa060ce-b720-4f58-b108-7cec16de06d9",
   "metadata": {},
   "outputs": [],
   "source": []
  }
 ],
 "metadata": {
  "kernelspec": {
   "display_name": "Python [conda env:base] *",
   "language": "python",
   "name": "conda-base-py"
  },
  "language_info": {
   "codemirror_mode": {
    "name": "ipython",
    "version": 3
   },
   "file_extension": ".py",
   "mimetype": "text/x-python",
   "name": "python",
   "nbconvert_exporter": "python",
   "pygments_lexer": "ipython3",
   "version": "3.12.7"
  }
 },
 "nbformat": 4,
 "nbformat_minor": 5
}
